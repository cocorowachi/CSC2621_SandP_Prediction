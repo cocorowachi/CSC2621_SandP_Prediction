{
 "cells": [
  {
   "cell_type": "code",
   "execution_count": 1,
   "id": "f2093a0b-d537-459d-8e00-68e8dc301b41",
   "metadata": {},
   "outputs": [],
   "source": [
    "import pandas as pd\n",
    "import numpy as np\n",
    "import matplotlib.pyplot as plt"
   ]
  },
  {
   "cell_type": "code",
   "execution_count": 2,
   "id": "dfff7311-b724-4989-9e88-093783e68e97",
   "metadata": {},
   "outputs": [],
   "source": [
    "bond_yield_df = pd.read_csv(\"Bond yield.csv\")\n",
    "cpi_df = pd.read_csv(\"Consumer price index.csv\")\n",
    "dj_df = pd.read_csv(\"Dow Jones.csv\")\n",
    "fx_df = pd.read_csv(\"Foreign Exchange.csv\")\n",
    "gdp_df = pd.read_csv(\"GDP.csv\")\n",
    "national_hpi_df = pd.read_csv(\"National home price index.csv\")\n",
    "sp_df = pd.read_csv(\"S&P Price.csv\")\n",
    "\n",
    "dfs = [bond_yield_df, cpi_df, dj_df, fx_df, gdp_df, national_hpi_df, sp_df]"
   ]
  },
  {
   "cell_type": "code",
   "execution_count": 3,
   "id": "0c5350a3-0d07-4357-95b0-3200441918c4",
   "metadata": {},
   "outputs": [],
   "source": [
    "for i in range(len(dfs)):\n",
    "    dfs[i].columns.values[0] = 'date'\n",
    "    dfs[i] = dfs[i].drop_duplicates(subset=\"date\", keep=\"first\")  # Remove duplicate date entries\n",
    "    \n",
    "    dfs[i].set_index('date', inplace=True)\n",
    "    dfs[i].index = pd.to_datetime(dfs[i].index, errors=\"coerce\").normalize()\n",
    "\n",
    "    # Ensure the index is unique\n",
    "    dfs[i] = dfs[i][~dfs[i].index.duplicated(keep=\"first\")]\n",
    "    \n"
   ]
  },
  {
   "cell_type": "code",
   "execution_count": 4,
   "id": "71dd0b11-b98a-4fca-a893-f171ae97bfbe",
   "metadata": {},
   "outputs": [
    {
     "name": "stdout",
     "output_type": "stream",
     "text": [
      "            DGS10\n",
      "date             \n",
      "1962-01-02   4.06\n",
      "1962-01-03   4.03\n",
      "1962-01-04   3.99\n",
      "1962-01-05   4.02\n",
      "            CPIAUCSL\n",
      "date                \n",
      "1947-01-01     21.48\n",
      "1947-02-01     21.62\n",
      "1947-03-01     22.00\n",
      "1947-04-01     22.00\n",
      "                DJIA\n",
      "date                \n",
      "2015-03-23  18116.04\n",
      "2015-03-24  18011.14\n",
      "2015-03-25  17718.54\n",
      "2015-03-26  17678.23\n",
      "            EURUSD_Open  EURUSD_High  EURUSD_Low  EURUSD_Close  \\\n",
      "date                                                             \n",
      "2023-10-06     1.055186     1.060220    1.048548      1.059322   \n",
      "2023-10-05     1.050707     1.053685    1.050089      1.050707   \n",
      "2023-10-04     1.047230     1.053241    1.045369      1.047230   \n",
      "2023-10-03     1.048075     1.049428    1.044987      1.048075   \n",
      "\n",
      "            EURUSD_Adj Close  USDJPY_Open  USDJPY_High  USDJPY_Low  \\\n",
      "date                                                                 \n",
      "2023-10-06          1.059322   148.490997   149.535995  148.354004   \n",
      "2023-10-05          1.050707   148.966003   149.100006  148.306000   \n",
      "2023-10-04          1.047230   149.192001   149.306000  148.740005   \n",
      "2023-10-03          1.048075   149.850998   150.141998  148.712006   \n",
      "\n",
      "            USDJPY_Close  USDJPY_Adj Close  ...  USDZAR_Open  USDZAR_High  \\\n",
      "date                                        ...                             \n",
      "2023-10-06    149.274002        149.274002  ...    19.507299    19.634830   \n",
      "2023-10-05    148.966003        148.966003  ...    19.319599    19.636299   \n",
      "2023-10-04    149.192001        149.192001  ...    19.298100    19.430201   \n",
      "2023-10-03    149.850998        149.850998  ...    19.212000    19.375650   \n",
      "\n",
      "            USDZAR_Low  USDZAR_Close  USDZAR_Adj Close  USDRUB_Open  \\\n",
      "date                                                                  \n",
      "2023-10-06   19.252199     19.507299         19.507299   100.089996   \n",
      "2023-10-05   19.261999     19.319599         19.319599    99.464996   \n",
      "2023-10-04   19.170111     19.298100         19.298100   100.964996   \n",
      "2023-10-03   19.204300     19.212000         19.212000    98.764999   \n",
      "\n",
      "            USDRUB_High  USDRUB_Low  USDRUB_Close  USDRUB_Adj Close  \n",
      "date                                                                 \n",
      "2023-10-06   101.580002   99.185997    100.089996        100.089996  \n",
      "2023-10-05   100.139999   99.167503     99.464996         99.464996  \n",
      "2023-10-04   100.964996   98.404999    100.964996        100.964996  \n",
      "2023-10-03   100.264999   98.169998     98.764999         98.764999  \n",
      "\n",
      "[4 rows x 120 columns]\n",
      "                GDP\n",
      "date               \n",
      "1947-01-01  243.164\n",
      "1947-04-01  245.968\n",
      "1947-07-01  249.585\n",
      "1947-10-01  259.745\n",
      "            CSUSHPINSA\n",
      "date                  \n",
      "1987-01-01      63.733\n",
      "1987-02-01      64.132\n",
      "1987-03-01      64.468\n",
      "1987-04-01      64.972\n",
      "                 Open       High        Low      Close  Adj Close  Volume\n",
      "date                                                                     \n",
      "1927-12-30  17.660000  17.660000  17.660000  17.660000  17.660000       0\n",
      "1928-01-03  17.760000  17.760000  17.760000  17.760000  17.760000       0\n",
      "1928-01-04  17.719999  17.719999  17.719999  17.719999  17.719999       0\n",
      "1928-01-05  17.549999  17.549999  17.549999  17.549999  17.549999       0\n",
      "                 Open       High        Low      Close  Adj Close  Volume\n",
      "date                                                                     \n",
      "1927-12-30  17.660000  17.660000  17.660000  17.660000  17.660000       0\n",
      "1928-01-03  17.760000  17.760000  17.760000  17.760000  17.760000       0\n",
      "1928-01-04  17.719999  17.719999  17.719999  17.719999  17.719999       0\n",
      "1928-01-05  17.549999  17.549999  17.549999  17.549999  17.549999       0\n"
     ]
    }
   ],
   "source": [
    "for df in dfs:\n",
    "    print(df.head(4))"
   ]
  },
  {
   "cell_type": "code",
   "execution_count": 5,
   "id": "d4ae4c03-fc23-480a-8a88-5494f476d457",
   "metadata": {},
   "outputs": [],
   "source": [
    "merged_df = pd.concat(dfs, axis=1)"
   ]
  },
  {
   "cell_type": "code",
   "execution_count": 6,
   "id": "72f246df-cb55-4b2e-89a3-2db18db29c40",
   "metadata": {},
   "outputs": [],
   "source": [
    "# csv = merged_df.to_csv('merged_df.csv', index = False) "
   ]
  },
  {
   "cell_type": "code",
   "execution_count": 7,
   "id": "f58aa459-f528-45bf-80bf-14b2dae7b516",
   "metadata": {},
   "outputs": [
    {
     "ename": "ValueError",
     "evalue": "Length mismatch: Expected axis has 9 elements, new values have 8 elements",
     "output_type": "error",
     "traceback": [
      "\u001b[1;31m---------------------------------------------------------------------------\u001b[0m",
      "\u001b[1;31mValueError\u001b[0m                                Traceback (most recent call last)",
      "Cell \u001b[1;32mIn[7], line 2\u001b[0m\n\u001b[0;32m      1\u001b[0m df \u001b[38;5;241m=\u001b[39m merged_df[[\u001b[38;5;124m'\u001b[39m\u001b[38;5;124mClose\u001b[39m\u001b[38;5;124m'\u001b[39m, \u001b[38;5;124m'\u001b[39m\u001b[38;5;124mDJIA\u001b[39m\u001b[38;5;124m'\u001b[39m, \u001b[38;5;124m'\u001b[39m\u001b[38;5;124mGDP\u001b[39m\u001b[38;5;124m'\u001b[39m, \u001b[38;5;124m'\u001b[39m\u001b[38;5;124mDGS10\u001b[39m\u001b[38;5;124m'\u001b[39m, \u001b[38;5;124m'\u001b[39m\u001b[38;5;124mCSUSHPINSA\u001b[39m\u001b[38;5;124m'\u001b[39m, \u001b[38;5;124m'\u001b[39m\u001b[38;5;124mCPIAUCSL\u001b[39m\u001b[38;5;124m'\u001b[39m, \u001b[38;5;124m'\u001b[39m\u001b[38;5;124mEURUSD_Close\u001b[39m\u001b[38;5;124m'\u001b[39m, \u001b[38;5;124m'\u001b[39m\u001b[38;5;124mUSDJPY_Close\u001b[39m\u001b[38;5;124m'\u001b[39m]]\n\u001b[1;32m----> 2\u001b[0m \u001b[43mdf\u001b[49m\u001b[38;5;241;43m.\u001b[39;49m\u001b[43mcolumns\u001b[49m \u001b[38;5;241m=\u001b[39m [\u001b[38;5;124m'\u001b[39m\u001b[38;5;124mSP_price\u001b[39m\u001b[38;5;124m'\u001b[39m,\u001b[38;5;124m'\u001b[39m\u001b[38;5;124mdow_jones\u001b[39m\u001b[38;5;124m'\u001b[39m,\u001b[38;5;124m'\u001b[39m\u001b[38;5;124mgdp\u001b[39m\u001b[38;5;124m'\u001b[39m,\u001b[38;5;124m'\u001b[39m\u001b[38;5;124mbond_yield\u001b[39m\u001b[38;5;124m'\u001b[39m,\u001b[38;5;124m'\u001b[39m\u001b[38;5;124mhome_price_index\u001b[39m\u001b[38;5;124m'\u001b[39m,\u001b[38;5;124m'\u001b[39m\u001b[38;5;124mconsumer_price_index\u001b[39m\u001b[38;5;124m'\u001b[39m,\u001b[38;5;124m'\u001b[39m\u001b[38;5;124meur\u001b[39m\u001b[38;5;124m'\u001b[39m,\u001b[38;5;124m'\u001b[39m\u001b[38;5;124mjpy\u001b[39m\u001b[38;5;124m'\u001b[39m]\n\u001b[0;32m      3\u001b[0m df\u001b[38;5;241m.\u001b[39mreset_index(inplace\u001b[38;5;241m=\u001b[39m\u001b[38;5;28;01mTrue\u001b[39;00m)\n\u001b[0;32m      4\u001b[0m full_date_range \u001b[38;5;241m=\u001b[39m pd\u001b[38;5;241m.\u001b[39mdate_range(start\u001b[38;5;241m=\u001b[39mdf[\u001b[38;5;124m'\u001b[39m\u001b[38;5;124mdate\u001b[39m\u001b[38;5;124m'\u001b[39m]\u001b[38;5;241m.\u001b[39mmin(), end\u001b[38;5;241m=\u001b[39mdf[\u001b[38;5;124m'\u001b[39m\u001b[38;5;124mdate\u001b[39m\u001b[38;5;124m'\u001b[39m]\u001b[38;5;241m.\u001b[39mmax(), freq\u001b[38;5;241m=\u001b[39m\u001b[38;5;124m'\u001b[39m\u001b[38;5;124mD\u001b[39m\u001b[38;5;124m'\u001b[39m)\n",
      "File \u001b[1;32m~\\AppData\\Local\\anaconda3\\envs\\tensorflow\\Lib\\site-packages\\pandas\\core\\generic.py:6313\u001b[0m, in \u001b[0;36mNDFrame.__setattr__\u001b[1;34m(self, name, value)\u001b[0m\n\u001b[0;32m   6311\u001b[0m \u001b[38;5;28;01mtry\u001b[39;00m:\n\u001b[0;32m   6312\u001b[0m     \u001b[38;5;28mobject\u001b[39m\u001b[38;5;241m.\u001b[39m\u001b[38;5;21m__getattribute__\u001b[39m(\u001b[38;5;28mself\u001b[39m, name)\n\u001b[1;32m-> 6313\u001b[0m     \u001b[38;5;28;01mreturn\u001b[39;00m \u001b[38;5;28;43mobject\u001b[39;49m\u001b[38;5;241;43m.\u001b[39;49m\u001b[38;5;21;43m__setattr__\u001b[39;49m\u001b[43m(\u001b[49m\u001b[38;5;28;43mself\u001b[39;49m\u001b[43m,\u001b[49m\u001b[43m \u001b[49m\u001b[43mname\u001b[49m\u001b[43m,\u001b[49m\u001b[43m \u001b[49m\u001b[43mvalue\u001b[49m\u001b[43m)\u001b[49m\n\u001b[0;32m   6314\u001b[0m \u001b[38;5;28;01mexcept\u001b[39;00m \u001b[38;5;167;01mAttributeError\u001b[39;00m:\n\u001b[0;32m   6315\u001b[0m     \u001b[38;5;28;01mpass\u001b[39;00m\n",
      "File \u001b[1;32mproperties.pyx:69\u001b[0m, in \u001b[0;36mpandas._libs.properties.AxisProperty.__set__\u001b[1;34m()\u001b[0m\n",
      "File \u001b[1;32m~\\AppData\\Local\\anaconda3\\envs\\tensorflow\\Lib\\site-packages\\pandas\\core\\generic.py:814\u001b[0m, in \u001b[0;36mNDFrame._set_axis\u001b[1;34m(self, axis, labels)\u001b[0m\n\u001b[0;32m    809\u001b[0m \u001b[38;5;250m\u001b[39m\u001b[38;5;124;03m\"\"\"\u001b[39;00m\n\u001b[0;32m    810\u001b[0m \u001b[38;5;124;03mThis is called from the cython code when we set the `index` attribute\u001b[39;00m\n\u001b[0;32m    811\u001b[0m \u001b[38;5;124;03mdirectly, e.g. `series.index = [1, 2, 3]`.\u001b[39;00m\n\u001b[0;32m    812\u001b[0m \u001b[38;5;124;03m\"\"\"\u001b[39;00m\n\u001b[0;32m    813\u001b[0m labels \u001b[38;5;241m=\u001b[39m ensure_index(labels)\n\u001b[1;32m--> 814\u001b[0m \u001b[38;5;28;43mself\u001b[39;49m\u001b[38;5;241;43m.\u001b[39;49m\u001b[43m_mgr\u001b[49m\u001b[38;5;241;43m.\u001b[39;49m\u001b[43mset_axis\u001b[49m\u001b[43m(\u001b[49m\u001b[43maxis\u001b[49m\u001b[43m,\u001b[49m\u001b[43m \u001b[49m\u001b[43mlabels\u001b[49m\u001b[43m)\u001b[49m\n\u001b[0;32m    815\u001b[0m \u001b[38;5;28mself\u001b[39m\u001b[38;5;241m.\u001b[39m_clear_item_cache()\n",
      "File \u001b[1;32m~\\AppData\\Local\\anaconda3\\envs\\tensorflow\\Lib\\site-packages\\pandas\\core\\internals\\managers.py:238\u001b[0m, in \u001b[0;36mBaseBlockManager.set_axis\u001b[1;34m(self, axis, new_labels)\u001b[0m\n\u001b[0;32m    236\u001b[0m \u001b[38;5;28;01mdef\u001b[39;00m \u001b[38;5;21mset_axis\u001b[39m(\u001b[38;5;28mself\u001b[39m, axis: AxisInt, new_labels: Index) \u001b[38;5;241m-\u001b[39m\u001b[38;5;241m>\u001b[39m \u001b[38;5;28;01mNone\u001b[39;00m:\n\u001b[0;32m    237\u001b[0m     \u001b[38;5;66;03m# Caller is responsible for ensuring we have an Index object.\u001b[39;00m\n\u001b[1;32m--> 238\u001b[0m     \u001b[38;5;28;43mself\u001b[39;49m\u001b[38;5;241;43m.\u001b[39;49m\u001b[43m_validate_set_axis\u001b[49m\u001b[43m(\u001b[49m\u001b[43maxis\u001b[49m\u001b[43m,\u001b[49m\u001b[43m \u001b[49m\u001b[43mnew_labels\u001b[49m\u001b[43m)\u001b[49m\n\u001b[0;32m    239\u001b[0m     \u001b[38;5;28mself\u001b[39m\u001b[38;5;241m.\u001b[39maxes[axis] \u001b[38;5;241m=\u001b[39m new_labels\n",
      "File \u001b[1;32m~\\AppData\\Local\\anaconda3\\envs\\tensorflow\\Lib\\site-packages\\pandas\\core\\internals\\base.py:98\u001b[0m, in \u001b[0;36mDataManager._validate_set_axis\u001b[1;34m(self, axis, new_labels)\u001b[0m\n\u001b[0;32m     95\u001b[0m     \u001b[38;5;28;01mpass\u001b[39;00m\n\u001b[0;32m     97\u001b[0m \u001b[38;5;28;01melif\u001b[39;00m new_len \u001b[38;5;241m!=\u001b[39m old_len:\n\u001b[1;32m---> 98\u001b[0m     \u001b[38;5;28;01mraise\u001b[39;00m \u001b[38;5;167;01mValueError\u001b[39;00m(\n\u001b[0;32m     99\u001b[0m         \u001b[38;5;124mf\u001b[39m\u001b[38;5;124m\"\u001b[39m\u001b[38;5;124mLength mismatch: Expected axis has \u001b[39m\u001b[38;5;132;01m{\u001b[39;00mold_len\u001b[38;5;132;01m}\u001b[39;00m\u001b[38;5;124m elements, new \u001b[39m\u001b[38;5;124m\"\u001b[39m\n\u001b[0;32m    100\u001b[0m         \u001b[38;5;124mf\u001b[39m\u001b[38;5;124m\"\u001b[39m\u001b[38;5;124mvalues have \u001b[39m\u001b[38;5;132;01m{\u001b[39;00mnew_len\u001b[38;5;132;01m}\u001b[39;00m\u001b[38;5;124m elements\u001b[39m\u001b[38;5;124m\"\u001b[39m\n\u001b[0;32m    101\u001b[0m     )\n",
      "\u001b[1;31mValueError\u001b[0m: Length mismatch: Expected axis has 9 elements, new values have 8 elements"
     ]
    }
   ],
   "source": [
    "df = merged_df[['Close', 'DJIA', 'GDP', 'DGS10', 'CSUSHPINSA', 'CPIAUCSL', 'EURUSD_Close', 'USDJPY_Close']]\n",
    "df.columns = ['SP_price','dow_jones','gdp','bond_yield','home_price_index','consumer_price_index','eur','jpy']\n",
    "df.reset_index(inplace=True)\n",
    "full_date_range = pd.date_range(start=df['date'].min(), end=df['date'].max(), freq='D')\n",
    "df.set_index(\"date\", inplace=True)  # Set 'date' as the index\n",
    "df = df.reindex(full_date_range)  # Fill missing dates\n",
    "df.index.name = \"date\"  # Keep the index name\n",
    "df.reset_index(inplace=True)  # Move the index back to a column\n",
    "df.head(5)"
   ]
  },
  {
   "cell_type": "code",
   "execution_count": null,
   "id": "ce60ae7a-c891-4c2b-8b75-b9bb69d89af1",
   "metadata": {},
   "outputs": [],
   "source": [
    "csv = df.to_csv('dfff.csv', index = False) \n"
   ]
  },
  {
   "cell_type": "code",
   "execution_count": null,
   "id": "a05aff27-071f-4128-a010-c155731d1f4a",
   "metadata": {},
   "outputs": [],
   "source": []
  }
 ],
 "metadata": {
  "kernelspec": {
   "display_name": "Python 3 (ipykernel)",
   "language": "python",
   "name": "python3"
  },
  "language_info": {
   "codemirror_mode": {
    "name": "ipython",
    "version": 3
   },
   "file_extension": ".py",
   "mimetype": "text/x-python",
   "name": "python",
   "nbconvert_exporter": "python",
   "pygments_lexer": "ipython3",
   "version": "3.12.7"
  }
 },
 "nbformat": 4,
 "nbformat_minor": 5
}
